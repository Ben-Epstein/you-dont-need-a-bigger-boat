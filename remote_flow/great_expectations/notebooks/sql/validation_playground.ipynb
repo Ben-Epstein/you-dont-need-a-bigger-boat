{
 "cells": [
  {
   "cell_type": "markdown",
   "metadata": {},
   "source": [
    "# Validation Playground\n",
    "\n",
    "**Watch** a [short tutorial video](https://greatexpectations.io/videos/getting_started/integrate_expectations) or **read** [the written tutorial](https://docs.greatexpectations.io/en/latest/tutorials/validate_data.html?utm_source=notebook&utm_medium=validate_data)\n",
    "\n",
    "#### This notebook assumes that you created at least one expectation suite in your project.\n",
    "#### Here you will learn how to validate data in a SQL database against an expectation suite.\n",
    "\n",
    "\n",
    "We'd love it if you **reach out for help on** the [**Great Expectations Slack Channel**](https://greatexpectations.io/slack)"
   ]
  },
  {
   "cell_type": "code",
   "execution_count": 1,
   "metadata": {},
   "outputs": [
    {
     "name": "stdout",
     "output_type": "stream",
     "text": [
      "2021-06-12T14:08:23-0400 - INFO - Great Expectations logging enabled at 20 level by JupyterUX module.\n"
     ]
    }
   ],
   "source": [
    "import json\n",
    "import great_expectations as ge\n",
    "import great_expectations.jupyter_ux\n",
    "from great_expectations.datasource.types import BatchKwargs\n",
    "import datetime"
   ]
  },
  {
   "cell_type": "markdown",
   "metadata": {},
   "source": [
    "## 1. Get a DataContext\n",
    "This represents your **project** that you just created using `great_expectations init`."
   ]
  },
  {
   "cell_type": "code",
   "execution_count": 2,
   "metadata": {},
   "outputs": [],
   "source": [
    "context = ge.data_context.DataContext()"
   ]
  },
  {
   "cell_type": "markdown",
   "metadata": {},
   "source": [
    "## 2. Choose an Expectation Suite\n",
    "\n",
    "List expectation suites that you created in your project"
   ]
  },
  {
   "cell_type": "code",
   "execution_count": 3,
   "metadata": {},
   "outputs": [
    {
     "data": {
      "text/plain": [
       "['public.conten_flattened.validation']"
      ]
     },
     "execution_count": 3,
     "metadata": {},
     "output_type": "execute_result"
    }
   ],
   "source": [
    "context.list_expectation_suite_names()"
   ]
  },
  {
   "cell_type": "code",
   "execution_count": 5,
   "metadata": {},
   "outputs": [],
   "source": [
    "expectation_suite_name =  \"public.conten_flattened.validation\""
   ]
  },
  {
   "cell_type": "markdown",
   "metadata": {},
   "source": [
    "## 3. Load a batch of data you want to validate\n",
    "\n",
    "To learn more about `get_batch`, see [this tutorial](https://docs.greatexpectations.io/en/latest/tutorials/validate_data.html?utm_source=notebook&utm_medium=validate_data#load-a-batch-of-data-to-validate)\n"
   ]
  },
  {
   "cell_type": "code",
   "execution_count": 6,
   "metadata": {},
   "outputs": [
    {
     "data": {
      "text/plain": [
       "['sigir_2021']"
      ]
     },
     "execution_count": 6,
     "metadata": {},
     "output_type": "execute_result"
    }
   ],
   "source": [
    "# list datasources of the type SqlAlchemyDatasource in your project\n",
    "[datasource['name'] for datasource in context.list_datasources() if datasource['class_name'] == 'SqlAlchemyDatasource']"
   ]
  },
  {
   "cell_type": "code",
   "execution_count": 7,
   "metadata": {},
   "outputs": [],
   "source": [
    "datasource_name = 'sigir_2021'"
   ]
  },
  {
   "cell_type": "code",
   "execution_count": 9,
   "metadata": {},
   "outputs": [
    {
     "name": "stdout",
     "output_type": "stream",
     "text": [
      "2021-06-12T14:10:12-0400 - INFO - \t0 expectation(s) included in expectation_suite.\n"
     ]
    },
    {
     "data": {
      "text/html": [
       "<div>\n",
       "<style scoped>\n",
       "    .dataframe tbody tr th:only-of-type {\n",
       "        vertical-align: middle;\n",
       "    }\n",
       "\n",
       "    .dataframe tbody tr th {\n",
       "        vertical-align: top;\n",
       "    }\n",
       "\n",
       "    .dataframe thead th {\n",
       "        text-align: right;\n",
       "    }\n",
       "</style>\n",
       "<table border=\"1\" class=\"dataframe\">\n",
       "  <thead>\n",
       "    <tr style=\"text-align: right;\">\n",
       "      <th></th>\n",
       "      <th>product_sku_hash</th>\n",
       "      <th>organization_id</th>\n",
       "      <th>ingestion_timestamp_epoch_ms</th>\n",
       "      <th>item_vector</th>\n",
       "      <th>image_vector</th>\n",
       "      <th>price_bucket</th>\n",
       "    </tr>\n",
       "  </thead>\n",
       "  <tbody>\n",
       "    <tr>\n",
       "      <th>0</th>\n",
       "      <td>4567ac170b580026a565edf35120580efc8d14228c5611e011e1d2625a8188f5</td>\n",
       "      <td>4c3773ad-47fb-4209-bb55-a5a1b10e3d4c</td>\n",
       "      <td>1.622856e+09</td>\n",
       "      <td>[0.3508215844631195,-0.26332706212997437,0.16586415469646454,-0.11209996789693832,-0.04904332756996155,-0.15326720476150513,-0.04274549335241318,-0.20716765522956848,-0.032622337341308594,-0.013592041097581387,0.24418453872203827,0.004179989919066429,0.04901127889752388,-0.05818378925323486,0.024211060255765915,-0.06378769129514694,-0.10051038861274719,-0.05661046504974365,-0.10162103921175003,0.08017785847187042,-0.07490655779838562,-0.02638772875070572,-0.06848417222499847,0.055211566388607025,-0.06801152229309082,-0.0006919335573911667,0.007154329214245081,-0.09328433871269226,0.023818781599402428,-0.010523619130253792,-0.026335446164011955,0.007179875858128071,0.04122491180896759,0.02236172743141651,0.03294681757688522,-0.046759698539972305,-0.03663371503353119,-0.060177966952323914,0.01563987135887146,-0.0012872030492872,-0.04256240278482437,-0.028577135875821114,0.061961546540260315,0.03775552660226822,0.007312982343137264,0.0422518327832222,0.023248394951224327,-0.016795670613646507,0.011034607887268066,-0.005703331902623177]</td>\n",
       "      <td>[411.31151955467567,-78.00889577899753,105.57672314181225,-16.2925362138567,-170.50402211054984,-52.42347205783106,78.14832692005514,-90.12238154320372,56.11708743826246,7.444791400785469,89.40822615771079,-57.7964568187617,9.37450370796168,41.73255990129773,-0.8052898469466179,69.33751334445047,-20.245637632060227,39.33480951943266,26.319551315728788,4.429640269496289,-3.4022179184586943,-61.41335241084148,-40.296444000001216,49.68745954028121,32.9109576914508,-4.969818419342273,46.57702542970442,-78.19838357256926,-45.748793655085414,-64.51598938431745,5.026253595301569,61.443711119778925,-81.38106816590854,18.450467702166137,-10.350375721975169,54.883079203938934,72.70085142976987,-14.944075604399323,-43.15909145381682,31.729304182851415,-10.516483787760505,-90.43265550235941,9.443044147374968,3.8514222626645527,0.21718250536093464,-0.4932529993840461,10.907042640843947,-38.803612696252046,-10.124990206720923,-18.202225914130214]</td>\n",
       "      <td>10.0</td>\n",
       "    </tr>\n",
       "    <tr>\n",
       "      <th>1</th>\n",
       "      <td>404837022de2a89318828818e44b768476334dcb0cbff1e7ac7eb02320dad6f3</td>\n",
       "      <td>4c3773ad-47fb-4209-bb55-a5a1b10e3d4c</td>\n",
       "      <td>1.622856e+09</td>\n",
       "      <td>[]</td>\n",
       "      <td>[]</td>\n",
       "      <td></td>\n",
       "    </tr>\n",
       "    <tr>\n",
       "      <th>2</th>\n",
       "      <td>183f7a48d139c1c9c76a6eecf96f49091ffef971cb99cf2ebe4fa0a45e66e82a</td>\n",
       "      <td>4c3773ad-47fb-4209-bb55-a5a1b10e3d4c</td>\n",
       "      <td>1.622856e+09</td>\n",
       "      <td>[]</td>\n",
       "      <td>[]</td>\n",
       "      <td></td>\n",
       "    </tr>\n",
       "    <tr>\n",
       "      <th>3</th>\n",
       "      <td>15b83f3097368d49c79d09a245266fdd18c51b8b2b18cc3fdfd9f229f77227bb</td>\n",
       "      <td>4c3773ad-47fb-4209-bb55-a5a1b10e3d4c</td>\n",
       "      <td>1.622856e+09</td>\n",
       "      <td>[]</td>\n",
       "      <td>[]</td>\n",
       "      <td></td>\n",
       "    </tr>\n",
       "    <tr>\n",
       "      <th>4</th>\n",
       "      <td>b358c101b6f75b7edc9d673d4eba2f054b056ac4de7fb89a553e135cdefb015c</td>\n",
       "      <td>4c3773ad-47fb-4209-bb55-a5a1b10e3d4c</td>\n",
       "      <td>1.622856e+09</td>\n",
       "      <td>[]</td>\n",
       "      <td>[]</td>\n",
       "      <td></td>\n",
       "    </tr>\n",
       "  </tbody>\n",
       "</table>\n",
       "</div>"
      ],
      "text/plain": [
       "                                                   product_sku_hash  \\\n",
       "0  4567ac170b580026a565edf35120580efc8d14228c5611e011e1d2625a8188f5   \n",
       "1  404837022de2a89318828818e44b768476334dcb0cbff1e7ac7eb02320dad6f3   \n",
       "2  183f7a48d139c1c9c76a6eecf96f49091ffef971cb99cf2ebe4fa0a45e66e82a   \n",
       "3  15b83f3097368d49c79d09a245266fdd18c51b8b2b18cc3fdfd9f229f77227bb   \n",
       "4  b358c101b6f75b7edc9d673d4eba2f054b056ac4de7fb89a553e135cdefb015c   \n",
       "\n",
       "                        organization_id  ingestion_timestamp_epoch_ms  \\\n",
       "0  4c3773ad-47fb-4209-bb55-a5a1b10e3d4c  1.622856e+09                   \n",
       "1  4c3773ad-47fb-4209-bb55-a5a1b10e3d4c  1.622856e+09                   \n",
       "2  4c3773ad-47fb-4209-bb55-a5a1b10e3d4c  1.622856e+09                   \n",
       "3  4c3773ad-47fb-4209-bb55-a5a1b10e3d4c  1.622856e+09                   \n",
       "4  4c3773ad-47fb-4209-bb55-a5a1b10e3d4c  1.622856e+09                   \n",
       "\n",
       "                                                                                                                                                                                                                                                                                                                                                                                                                                                                                                                                                                                                                                                                                                                                                                                                                                                                                                                                                                                                                                                                                item_vector  \\\n",
       "0  [0.3508215844631195,-0.26332706212997437,0.16586415469646454,-0.11209996789693832,-0.04904332756996155,-0.15326720476150513,-0.04274549335241318,-0.20716765522956848,-0.032622337341308594,-0.013592041097581387,0.24418453872203827,0.004179989919066429,0.04901127889752388,-0.05818378925323486,0.024211060255765915,-0.06378769129514694,-0.10051038861274719,-0.05661046504974365,-0.10162103921175003,0.08017785847187042,-0.07490655779838562,-0.02638772875070572,-0.06848417222499847,0.055211566388607025,-0.06801152229309082,-0.0006919335573911667,0.007154329214245081,-0.09328433871269226,0.023818781599402428,-0.010523619130253792,-0.026335446164011955,0.007179875858128071,0.04122491180896759,0.02236172743141651,0.03294681757688522,-0.046759698539972305,-0.03663371503353119,-0.060177966952323914,0.01563987135887146,-0.0012872030492872,-0.04256240278482437,-0.028577135875821114,0.061961546540260315,0.03775552660226822,0.007312982343137264,0.0422518327832222,0.023248394951224327,-0.016795670613646507,0.011034607887268066,-0.005703331902623177]   \n",
       "1  []                                                                                                                                                                                                                                                                                                                                                                                                                                                                                                                                                                                                                                                                                                                                                                                                                                                                                                                                                                                                                                                                                         \n",
       "2  []                                                                                                                                                                                                                                                                                                                                                                                                                                                                                                                                                                                                                                                                                                                                                                                                                                                                                                                                                                                                                                                                                         \n",
       "3  []                                                                                                                                                                                                                                                                                                                                                                                                                                                                                                                                                                                                                                                                                                                                                                                                                                                                                                                                                                                                                                                                                         \n",
       "4  []                                                                                                                                                                                                                                                                                                                                                                                                                                                                                                                                                                                                                                                                                                                                                                                                                                                                                                                                                                                                                                                                                         \n",
       "\n",
       "                                                                                                                                                                                                                                                                                                                                                                                                                                                                                                                                                                                                                                                                                                                                                                                                                                                                                                                                                                         image_vector  \\\n",
       "0  [411.31151955467567,-78.00889577899753,105.57672314181225,-16.2925362138567,-170.50402211054984,-52.42347205783106,78.14832692005514,-90.12238154320372,56.11708743826246,7.444791400785469,89.40822615771079,-57.7964568187617,9.37450370796168,41.73255990129773,-0.8052898469466179,69.33751334445047,-20.245637632060227,39.33480951943266,26.319551315728788,4.429640269496289,-3.4022179184586943,-61.41335241084148,-40.296444000001216,49.68745954028121,32.9109576914508,-4.969818419342273,46.57702542970442,-78.19838357256926,-45.748793655085414,-64.51598938431745,5.026253595301569,61.443711119778925,-81.38106816590854,18.450467702166137,-10.350375721975169,54.883079203938934,72.70085142976987,-14.944075604399323,-43.15909145381682,31.729304182851415,-10.516483787760505,-90.43265550235941,9.443044147374968,3.8514222626645527,0.21718250536093464,-0.4932529993840461,10.907042640843947,-38.803612696252046,-10.124990206720923,-18.202225914130214]   \n",
       "1  []                                                                                                                                                                                                                                                                                                                                                                                                                                                                                                                                                                                                                                                                                                                                                                                                                                                                                                                                                                                   \n",
       "2  []                                                                                                                                                                                                                                                                                                                                                                                                                                                                                                                                                                                                                                                                                                                                                                                                                                                                                                                                                                                   \n",
       "3  []                                                                                                                                                                                                                                                                                                                                                                                                                                                                                                                                                                                                                                                                                                                                                                                                                                                                                                                                                                                   \n",
       "4  []                                                                                                                                                                                                                                                                                                                                                                                                                                                                                                                                                                                                                                                                                                                                                                                                                                                                                                                                                                                   \n",
       "\n",
       "  price_bucket  \n",
       "0  10.0         \n",
       "1               \n",
       "2               \n",
       "3               \n",
       "4               "
      ]
     },
     "execution_count": 9,
     "metadata": {},
     "output_type": "execute_result"
    }
   ],
   "source": [
    "# If you would like to validate an entire table or view in your database's default schema:\n",
    "batch_kwargs = {'table': \"content_flattened\", 'datasource': datasource_name}\n",
    "\n",
    "# If you would like to validate an entire table or view from a non-default schema in your database:\n",
    "# batch_kwargs = {'table': \"content_flattened\", \"schema\": \"pulic\", 'datasource': datasource_name}\n",
    "\n",
    "# If you would like to validate the result set of a query:\n",
    "# batch_kwargs = {'query': 'SELECT YOUR_ROWS FROM YOUR_TABLE', 'datasource': datasource_name}\n",
    "\n",
    "\n",
    "\n",
    "batch = context.get_batch(batch_kwargs, expectation_suite_name)\n",
    "batch.head()"
   ]
  },
  {
   "cell_type": "markdown",
   "metadata": {},
   "source": [
    "## 4. Validate the batch with Validation Operators\n",
    "\n",
    "`Validation Operators` provide a convenient way to bundle the validation of\n",
    "multiple expectation suites and the actions that should be taken after validation.\n",
    "\n",
    "When deploying Great Expectations in a **real data pipeline, you will typically discover these needs**:\n",
    "\n",
    "* validating a group of batches that are logically related\n",
    "* validating a batch against several expectation suites such as using a tiered pattern like `warning` and `failure`\n",
    "* doing something with the validation results (e.g., saving them for a later review, sending notifications in case of failures, etc.).\n",
    "\n",
    "[Read more about Validation Operators in the tutorial](https://docs.greatexpectations.io/en/latest/tutorials/validate_data.html?utm_source=notebook&utm_medium=validate_data#save-validation-results)"
   ]
  },
  {
   "cell_type": "code",
   "execution_count": 10,
   "metadata": {},
   "outputs": [
    {
     "ename": "DataContextError",
     "evalue": "No validation operator `action_list_operator` was found in your project. Please verify this in your great_expectations.yml",
     "output_type": "error",
     "traceback": [
      "\u001b[0;31m---------------------------------------------------------------------------\u001b[0m",
      "\u001b[0;31mKeyError\u001b[0m                                  Traceback (most recent call last)",
      "\u001b[0;32m~/.pyenv/versions/3.8.6/envs/metaflow-3.8.6/lib/python3.8/site-packages/great_expectations/data_context/data_context.py\u001b[0m in \u001b[0;36mrun_validation_operator\u001b[0;34m(self, validation_operator_name, assets_to_validate, run_id, evaluation_parameters, run_name, run_time, result_format, **kwargs)\u001b[0m\n\u001b[1;32m   1286\u001b[0m         \u001b[0;32mtry\u001b[0m\u001b[0;34m:\u001b[0m\u001b[0;34m\u001b[0m\u001b[0;34m\u001b[0m\u001b[0m\n\u001b[0;32m-> 1287\u001b[0;31m             \u001b[0mvalidation_operator\u001b[0m \u001b[0;34m=\u001b[0m \u001b[0mself\u001b[0m\u001b[0;34m.\u001b[0m\u001b[0mvalidation_operators\u001b[0m\u001b[0;34m[\u001b[0m\u001b[0mvalidation_operator_name\u001b[0m\u001b[0;34m]\u001b[0m\u001b[0;34m\u001b[0m\u001b[0;34m\u001b[0m\u001b[0m\n\u001b[0m\u001b[1;32m   1288\u001b[0m         \u001b[0;32mexcept\u001b[0m \u001b[0mKeyError\u001b[0m\u001b[0;34m:\u001b[0m\u001b[0;34m\u001b[0m\u001b[0;34m\u001b[0m\u001b[0m\n",
      "\u001b[0;31mKeyError\u001b[0m: 'action_list_operator'",
      "\nDuring handling of the above exception, another exception occurred:\n",
      "\u001b[0;31mDataContextError\u001b[0m                          Traceback (most recent call last)",
      "\u001b[0;32m<ipython-input-10-ab2a1561c516>\u001b[0m in \u001b[0;36m<module>\u001b[0;34m\u001b[0m\n\u001b[1;32m     14\u001b[0m }\n\u001b[1;32m     15\u001b[0m \u001b[0;34m\u001b[0m\u001b[0m\n\u001b[0;32m---> 16\u001b[0;31m results = context.run_validation_operator(\n\u001b[0m\u001b[1;32m     17\u001b[0m     \u001b[0;34m\"action_list_operator\"\u001b[0m\u001b[0;34m,\u001b[0m\u001b[0;34m\u001b[0m\u001b[0;34m\u001b[0m\u001b[0m\n\u001b[1;32m     18\u001b[0m     \u001b[0massets_to_validate\u001b[0m\u001b[0;34m=\u001b[0m\u001b[0;34m[\u001b[0m\u001b[0mbatch\u001b[0m\u001b[0;34m]\u001b[0m\u001b[0;34m,\u001b[0m\u001b[0;34m\u001b[0m\u001b[0;34m\u001b[0m\u001b[0m\n",
      "\u001b[0;32m~/.pyenv/versions/3.8.6/envs/metaflow-3.8.6/lib/python3.8/site-packages/great_expectations/core/usage_statistics/usage_statistics.py\u001b[0m in \u001b[0;36musage_statistics_wrapped_method\u001b[0;34m(*args, **kwargs)\u001b[0m\n\u001b[1;32m    260\u001b[0m                 \u001b[0;32mif\u001b[0m \u001b[0margs_payload_fn\u001b[0m \u001b[0;32mis\u001b[0m \u001b[0;32mnot\u001b[0m \u001b[0;32mNone\u001b[0m\u001b[0;34m:\u001b[0m\u001b[0;34m\u001b[0m\u001b[0;34m\u001b[0m\u001b[0m\n\u001b[1;32m    261\u001b[0m                     \u001b[0mnested_update\u001b[0m\u001b[0;34m(\u001b[0m\u001b[0mevent_payload\u001b[0m\u001b[0;34m,\u001b[0m \u001b[0margs_payload_fn\u001b[0m\u001b[0;34m(\u001b[0m\u001b[0;34m*\u001b[0m\u001b[0margs\u001b[0m\u001b[0;34m,\u001b[0m \u001b[0;34m**\u001b[0m\u001b[0mkwargs\u001b[0m\u001b[0;34m)\u001b[0m\u001b[0;34m)\u001b[0m\u001b[0;34m\u001b[0m\u001b[0;34m\u001b[0m\u001b[0m\n\u001b[0;32m--> 262\u001b[0;31m                 \u001b[0mresult\u001b[0m \u001b[0;34m=\u001b[0m \u001b[0mfunc\u001b[0m\u001b[0;34m(\u001b[0m\u001b[0;34m*\u001b[0m\u001b[0margs\u001b[0m\u001b[0;34m,\u001b[0m \u001b[0;34m**\u001b[0m\u001b[0mkwargs\u001b[0m\u001b[0;34m)\u001b[0m\u001b[0;34m\u001b[0m\u001b[0;34m\u001b[0m\u001b[0m\n\u001b[0m\u001b[1;32m    263\u001b[0m                 \u001b[0;31m# We try to get the handler only now, so that it *could* be initialized in func, e.g. if it is an\u001b[0m\u001b[0;34m\u001b[0m\u001b[0;34m\u001b[0m\u001b[0;34m\u001b[0m\u001b[0m\n\u001b[1;32m    264\u001b[0m                 \u001b[0;31m# __init__ method\u001b[0m\u001b[0;34m\u001b[0m\u001b[0;34m\u001b[0m\u001b[0;34m\u001b[0m\u001b[0m\n",
      "\u001b[0;32m~/.pyenv/versions/3.8.6/envs/metaflow-3.8.6/lib/python3.8/site-packages/great_expectations/data_context/data_context.py\u001b[0m in \u001b[0;36mrun_validation_operator\u001b[0;34m(self, validation_operator_name, assets_to_validate, run_id, evaluation_parameters, run_name, run_time, result_format, **kwargs)\u001b[0m\n\u001b[1;32m   1287\u001b[0m             \u001b[0mvalidation_operator\u001b[0m \u001b[0;34m=\u001b[0m \u001b[0mself\u001b[0m\u001b[0;34m.\u001b[0m\u001b[0mvalidation_operators\u001b[0m\u001b[0;34m[\u001b[0m\u001b[0mvalidation_operator_name\u001b[0m\u001b[0;34m]\u001b[0m\u001b[0;34m\u001b[0m\u001b[0;34m\u001b[0m\u001b[0m\n\u001b[1;32m   1288\u001b[0m         \u001b[0;32mexcept\u001b[0m \u001b[0mKeyError\u001b[0m\u001b[0;34m:\u001b[0m\u001b[0;34m\u001b[0m\u001b[0;34m\u001b[0m\u001b[0m\n\u001b[0;32m-> 1289\u001b[0;31m             raise ge_exceptions.DataContextError(\n\u001b[0m\u001b[1;32m   1290\u001b[0m                 \u001b[0;34mf\"No validation operator `{validation_operator_name}` was found in your project. Please verify this in your great_expectations.yml\"\u001b[0m\u001b[0;34m\u001b[0m\u001b[0;34m\u001b[0m\u001b[0m\n\u001b[1;32m   1291\u001b[0m             )\n",
      "\u001b[0;31mDataContextError\u001b[0m: No validation operator `action_list_operator` was found in your project. Please verify this in your great_expectations.yml"
     ]
    }
   ],
   "source": [
    "# This is an example of invoking a validation operator that is configured by default in the great_expectations.yml file\n",
    "\n",
    "\"\"\"\n",
    "Create a run_id. The run_id must be of type RunIdentifier, with optional run_name and run_time instantiation\n",
    "arguments (or a dictionary with these keys). The run_name can be any string (this could come from your pipeline\n",
    "runner, e.g. Airflow run id). The run_time can be either a dateutil parsable string or a datetime object.\n",
    "Note - any provided datetime will be assumed to be a UTC time. If no instantiation arguments are given, run_name will\n",
    "be None and run_time will default to the current UTC datetime.\n",
    "\"\"\"\n",
    "\n",
    "run_id = {\n",
    "  \"run_name\": \"andrew_test_1\",  # insert your own run_name here\n",
    "  \"run_time\": datetime.datetime.now(datetime.timezone.utc)\n",
    "}\n",
    "\n",
    "results = context.run_validation_operator(\n",
    "    \"action_list_operator\",\n",
    "    assets_to_validate=[batch],\n",
    "    run_id=run_id)"
   ]
  },
  {
   "cell_type": "markdown",
   "metadata": {},
   "source": [
    "## 5. View the Validation Results in Data Docs\n",
    "\n",
    "Let's now build and look at your Data Docs. These will now include an **data quality report** built from the `ValidationResults` you just created that helps you communicate about your data with both machines and humans.\n",
    "\n",
    "[Read more about Data Docs in the tutorial](https://docs.greatexpectations.io/en/latest/tutorials/validate_data.html?utm_source=notebook&utm_medium=validate_data#view-the-validation-results-in-data-docs)"
   ]
  },
  {
   "cell_type": "code",
   "execution_count": null,
   "metadata": {},
   "outputs": [],
   "source": [
    "context.open_data_docs()"
   ]
  },
  {
   "cell_type": "markdown",
   "metadata": {},
   "source": [
    "## Congratulations! You ran Validations!\n",
    "\n",
    "## Next steps:\n",
    "\n",
    "### 1. Read about the typical workflow with Great Expectations:\n",
    "\n",
    "[typical workflow](https://docs.greatexpectations.io/en/latest/getting_started/typical_workflow.html?utm_source=notebook&utm_medium=validate_data#view-the-validation-results-in-data-docs)\n",
    "\n",
    "### 2. Explore the documentation & community\n",
    "\n",
    "You are now among the elite data professionals who know how to build robust descriptions of your data and protections for pipelines and machine learning models. Join the [**Great Expectations Slack Channel**](https://greatexpectations.io/slack) to see how others are wielding these superpowers."
   ]
  },
  {
   "cell_type": "code",
   "execution_count": null,
   "metadata": {},
   "outputs": [],
   "source": []
  }
 ],
 "metadata": {
  "kernelspec": {
   "display_name": "local-venv",
   "language": "python",
   "name": "local-venv"
  },
  "language_info": {
   "codemirror_mode": {
    "name": "ipython",
    "version": 3
   },
   "file_extension": ".py",
   "mimetype": "text/x-python",
   "name": "python",
   "nbconvert_exporter": "python",
   "pygments_lexer": "ipython3",
   "version": "3.8.6"
  },
  "pycharm": {
   "stem_cell": {
    "cell_type": "raw",
    "metadata": {
     "collapsed": false
    },
    "source": []
   }
  }
 },
 "nbformat": 4,
 "nbformat_minor": 4
}
